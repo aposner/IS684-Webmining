{
 "cells": [
  {
   "cell_type": "code",
   "execution_count": 37,
   "metadata": {},
   "outputs": [],
   "source": [
    "import requests\n",
    "from bs4 import BeautifulSoup\n",
    "import re\n",
    "import pandas as pd\n",
    "import datetime"
   ]
  },
  {
   "cell_type": "code",
   "execution_count": 6,
   "metadata": {},
   "outputs": [],
   "source": [
    "day='2019-12/02'\n",
    "url='http://www.419scam.org/emails/{}/index.htm'.format(day)"
   ]
  },
  {
   "cell_type": "code",
   "execution_count": 7,
   "metadata": {},
   "outputs": [],
   "source": [
    "response=requests.get(url)"
   ]
  },
  {
   "cell_type": "code",
   "execution_count": 8,
   "metadata": {},
   "outputs": [
    {
     "data": {
      "text/plain": [
       "<Response [200]>"
      ]
     },
     "execution_count": 8,
     "metadata": {},
     "output_type": "execute_result"
    }
   ],
   "source": [
    "response"
   ]
  },
  {
   "cell_type": "code",
   "execution_count": 9,
   "metadata": {},
   "outputs": [],
   "source": [
    "html=response.text"
   ]
  },
  {
   "cell_type": "code",
   "execution_count": 10,
   "metadata": {},
   "outputs": [],
   "source": [
    "soup=BeautifulSoup(html, 'html.parser')"
   ]
  },
  {
   "cell_type": "code",
   "execution_count": 11,
   "metadata": {},
   "outputs": [],
   "source": [
    "all_links=soup.find_all('a')"
   ]
  },
  {
   "cell_type": "code",
   "execution_count": 18,
   "metadata": {},
   "outputs": [
    {
     "data": {
      "text/plain": [
       "'01360464.35.htm'"
      ]
     },
     "execution_count": 18,
     "metadata": {},
     "output_type": "execute_result"
    }
   ],
   "source": [
    "all_links[98]['href']"
   ]
  },
  {
   "cell_type": "code",
   "execution_count": 23,
   "metadata": {},
   "outputs": [
    {
     "data": {
      "text/plain": [
       "<re.Match object; span=(0, 14), match='01360483.1.htm'>"
      ]
     },
     "execution_count": 23,
     "metadata": {},
     "output_type": "execute_result"
    }
   ],
   "source": [
    "re.match(r'\\d{8}\\.\\d{1,2}\\.htm',all_links[99]['href'] )"
   ]
  },
  {
   "cell_type": "code",
   "execution_count": 24,
   "metadata": {},
   "outputs": [],
   "source": [
    "email_urls=[link for link in all_links if re.match(r'\\d{8}\\.\\d{1,2}\\.htm',link['href'] )]"
   ]
  },
  {
   "cell_type": "code",
   "execution_count": 28,
   "metadata": {},
   "outputs": [],
   "source": [
    "day_emails=[[email.text, email['href']] for email in email_urls]"
   ]
  },
  {
   "cell_type": "code",
   "execution_count": 31,
   "metadata": {},
   "outputs": [],
   "source": [
    "ds=pd.DataFrame(day_emails)"
   ]
  },
  {
   "cell_type": "code",
   "execution_count": 33,
   "metadata": {},
   "outputs": [],
   "source": [
    "ds.columns=['Link Text', 'URL']"
   ]
  },
  {
   "cell_type": "code",
   "execution_count": 35,
   "metadata": {},
   "outputs": [],
   "source": [
    "ds['Date']=day"
   ]
  },
  {
   "cell_type": "code",
   "execution_count": 36,
   "metadata": {},
   "outputs": [
    {
     "data": {
      "text/html": [
       "<div>\n",
       "<style scoped>\n",
       "    .dataframe tbody tr th:only-of-type {\n",
       "        vertical-align: middle;\n",
       "    }\n",
       "\n",
       "    .dataframe tbody tr th {\n",
       "        vertical-align: top;\n",
       "    }\n",
       "\n",
       "    .dataframe thead th {\n",
       "        text-align: right;\n",
       "    }\n",
       "</style>\n",
       "<table border=\"1\" class=\"dataframe\">\n",
       "  <thead>\n",
       "    <tr style=\"text-align: right;\">\n",
       "      <th></th>\n",
       "      <th>Link Text</th>\n",
       "      <th>URL</th>\n",
       "      <th>Date</th>\n",
       "    </tr>\n",
       "  </thead>\n",
       "  <tbody>\n",
       "    <tr>\n",
       "      <th>0</th>\n",
       "      <td>We giving out up to $ 10,000,000 at 1 % intere...</td>\n",
       "      <td>01360214.37.htm</td>\n",
       "      <td>2019-12/02</td>\n",
       "    </tr>\n",
       "    <tr>\n",
       "      <th>1</th>\n",
       "      <td>RE: IMPORTANT BUSINESS TRANSACTION ....</td>\n",
       "      <td>01360223.3.htm</td>\n",
       "      <td>2019-12/02</td>\n",
       "    </tr>\n",
       "    <tr>\n",
       "      <th>2</th>\n",
       "      <td>Thank you[f</td>\n",
       "      <td>01360225.17.htm</td>\n",
       "      <td>2019-12/02</td>\n",
       "    </tr>\n",
       "    <tr>\n",
       "      <th>3</th>\n",
       "      <td>Greetings</td>\n",
       "      <td>01360226.5.htm</td>\n",
       "      <td>2019-12/02</td>\n",
       "    </tr>\n",
       "    <tr>\n",
       "      <th>4</th>\n",
       "      <td>Donation for you!!!</td>\n",
       "      <td>01360232.1.htm</td>\n",
       "      <td>2019-12/02</td>\n",
       "    </tr>\n",
       "    <tr>\n",
       "      <th>...</th>\n",
       "      <td>...</td>\n",
       "      <td>...</td>\n",
       "      <td>...</td>\n",
       "    </tr>\n",
       "    <tr>\n",
       "      <th>94</th>\n",
       "      <td>help!!!</td>\n",
       "      <td>01360920.10.htm</td>\n",
       "      <td>2019-12/02</td>\n",
       "    </tr>\n",
       "    <tr>\n",
       "      <th>95</th>\n",
       "      <td>Outlook Notification Message!!!</td>\n",
       "      <td>01360927.3.htm</td>\n",
       "      <td>2019-12/02</td>\n",
       "    </tr>\n",
       "    <tr>\n",
       "      <th>96</th>\n",
       "      <td>Attention consignment owner,</td>\n",
       "      <td>01360931.1.htm</td>\n",
       "      <td>2019-12/02</td>\n",
       "    </tr>\n",
       "    <tr>\n",
       "      <th>97</th>\n",
       "      <td>URGENT MASSAGE FROM JOYCE SAMUEL</td>\n",
       "      <td>01360934.13.htm</td>\n",
       "      <td>2019-12/02</td>\n",
       "    </tr>\n",
       "    <tr>\n",
       "      <th>98</th>\n",
       "      <td>Dearest In Christ,</td>\n",
       "      <td>01360994.10.htm</td>\n",
       "      <td>2019-12/02</td>\n",
       "    </tr>\n",
       "  </tbody>\n",
       "</table>\n",
       "<p>99 rows × 3 columns</p>\n",
       "</div>"
      ],
      "text/plain": [
       "                                            Link Text              URL  \\\n",
       "0   We giving out up to $ 10,000,000 at 1 % intere...  01360214.37.htm   \n",
       "1             RE: IMPORTANT BUSINESS TRANSACTION ....   01360223.3.htm   \n",
       "2                                         Thank you[f  01360225.17.htm   \n",
       "3                                           Greetings   01360226.5.htm   \n",
       "4                                 Donation for you!!!   01360232.1.htm   \n",
       "..                                                ...              ...   \n",
       "94                                            help!!!  01360920.10.htm   \n",
       "95                    Outlook Notification Message!!!   01360927.3.htm   \n",
       "96                       Attention consignment owner,   01360931.1.htm   \n",
       "97                   URGENT MASSAGE FROM JOYCE SAMUEL  01360934.13.htm   \n",
       "98                                 Dearest In Christ,  01360994.10.htm   \n",
       "\n",
       "          Date  \n",
       "0   2019-12/02  \n",
       "1   2019-12/02  \n",
       "2   2019-12/02  \n",
       "3   2019-12/02  \n",
       "4   2019-12/02  \n",
       "..         ...  \n",
       "94  2019-12/02  \n",
       "95  2019-12/02  \n",
       "96  2019-12/02  \n",
       "97  2019-12/02  \n",
       "98  2019-12/02  \n",
       "\n",
       "[99 rows x 3 columns]"
      ]
     },
     "execution_count": 36,
     "metadata": {},
     "output_type": "execute_result"
    }
   ],
   "source": [
    "ds"
   ]
  },
  {
   "cell_type": "code",
   "execution_count": 39,
   "metadata": {},
   "outputs": [],
   "source": [
    "start_date=datetime.datetime.strptime('2019-12-01', '%Y-%m-%d')"
   ]
  },
  {
   "cell_type": "code",
   "execution_count": 44,
   "metadata": {},
   "outputs": [],
   "source": [
    "all_days=[start_date+datetime.timedelta(i) for i in range(62)]"
   ]
  },
  {
   "cell_type": "code",
   "execution_count": 51,
   "metadata": {},
   "outputs": [],
   "source": [
    "all_day_vals=[day.strftime('%Y-%m/%d') for day in all_days]"
   ]
  },
  {
   "cell_type": "code",
   "execution_count": 52,
   "metadata": {},
   "outputs": [],
   "source": [
    "all_dfs=[]\n",
    "for day in all_day_vals:\n",
    "    url='http://www.419scam.org/emails/{}/index.htm'.format(day)\n",
    "    response=requests.get(url)\n",
    "    html=response.text\n",
    "    soup=BeautifulSoup(html, 'html.parser')\n",
    "    all_links=soup.find_all('a')\n",
    "    email_urls=[link for link in all_links if re.match(r'\\d{8}\\.\\d{1,2}\\.htm',link['href'] )]\n",
    "    day_emails=[[email.text, email['href']] for email in email_urls]\n",
    "    ds=pd.DataFrame(day_emails)\n",
    "    ds.columns=['Link Text', 'URL']\n",
    "    ds['Date']=day\n",
    "    \n",
    "    all_dfs.append(ds)"
   ]
  },
  {
   "cell_type": "code",
   "execution_count": 53,
   "metadata": {},
   "outputs": [
    {
     "data": {
      "text/plain": [
       "62"
      ]
     },
     "execution_count": 53,
     "metadata": {},
     "output_type": "execute_result"
    }
   ],
   "source": [
    "len(all_dfs)"
   ]
  },
  {
   "cell_type": "code",
   "execution_count": 54,
   "metadata": {},
   "outputs": [
    {
     "data": {
      "text/html": [
       "<div>\n",
       "<style scoped>\n",
       "    .dataframe tbody tr th:only-of-type {\n",
       "        vertical-align: middle;\n",
       "    }\n",
       "\n",
       "    .dataframe tbody tr th {\n",
       "        vertical-align: top;\n",
       "    }\n",
       "\n",
       "    .dataframe thead th {\n",
       "        text-align: right;\n",
       "    }\n",
       "</style>\n",
       "<table border=\"1\" class=\"dataframe\">\n",
       "  <thead>\n",
       "    <tr style=\"text-align: right;\">\n",
       "      <th></th>\n",
       "      <th>Link Text</th>\n",
       "      <th>URL</th>\n",
       "      <th>Date</th>\n",
       "    </tr>\n",
       "  </thead>\n",
       "  <tbody>\n",
       "    <tr>\n",
       "      <th>0</th>\n",
       "      <td>We giving out up to $ 10,000,000 at 1 % intere...</td>\n",
       "      <td>01359457.14.htm</td>\n",
       "      <td>2019-12/01</td>\n",
       "    </tr>\n",
       "    <tr>\n",
       "      <th>1</th>\n",
       "      <td>hello</td>\n",
       "      <td>01359461.1.htm</td>\n",
       "      <td>2019-12/01</td>\n",
       "    </tr>\n",
       "    <tr>\n",
       "      <th>2</th>\n",
       "      <td>Dear Friend,</td>\n",
       "      <td>01359462.15.htm</td>\n",
       "      <td>2019-12/01</td>\n",
       "    </tr>\n",
       "    <tr>\n",
       "      <th>3</th>\n",
       "      <td>Good Day My Dearest,</td>\n",
       "      <td>01359465.10.htm</td>\n",
       "      <td>2019-12/01</td>\n",
       "    </tr>\n",
       "    <tr>\n",
       "      <th>4</th>\n",
       "      <td>Dear Winner, Your Secret Pin Code Number BMW:2...</td>\n",
       "      <td>01359466.1.htm</td>\n",
       "      <td>2019-12/01</td>\n",
       "    </tr>\n",
       "    <tr>\n",
       "      <th>...</th>\n",
       "      <td>...</td>\n",
       "      <td>...</td>\n",
       "      <td>...</td>\n",
       "    </tr>\n",
       "    <tr>\n",
       "      <th>66</th>\n",
       "      <td>FIRST BANK PLC INTERNATIONAL REMITTANCE DEPART...</td>\n",
       "      <td>01383830.2.htm</td>\n",
       "      <td>2020-01/30</td>\n",
       "    </tr>\n",
       "    <tr>\n",
       "      <th>0</th>\n",
       "      <td>Congratulation: You're a winner!</td>\n",
       "      <td>01383833.1.htm</td>\n",
       "      <td>2020-01/31</td>\n",
       "    </tr>\n",
       "    <tr>\n",
       "      <th>1</th>\n",
       "      <td>Hello,</td>\n",
       "      <td>01383834.2.htm</td>\n",
       "      <td>2020-01/31</td>\n",
       "    </tr>\n",
       "    <tr>\n",
       "      <th>2</th>\n",
       "      <td>Re: Exchange Of Account / Are You Aware ??? 30...</td>\n",
       "      <td>01383837.1.htm</td>\n",
       "      <td>2020-01/31</td>\n",
       "    </tr>\n",
       "    <tr>\n",
       "      <th>3</th>\n",
       "      <td>CALL  ME.............................</td>\n",
       "      <td>01383838.3.htm</td>\n",
       "      <td>2020-01/31</td>\n",
       "    </tr>\n",
       "  </tbody>\n",
       "</table>\n",
       "<p>4723 rows × 3 columns</p>\n",
       "</div>"
      ],
      "text/plain": [
       "                                            Link Text              URL  \\\n",
       "0   We giving out up to $ 10,000,000 at 1 % intere...  01359457.14.htm   \n",
       "1                                               hello   01359461.1.htm   \n",
       "2                                        Dear Friend,  01359462.15.htm   \n",
       "3                                Good Day My Dearest,  01359465.10.htm   \n",
       "4   Dear Winner, Your Secret Pin Code Number BMW:2...   01359466.1.htm   \n",
       "..                                                ...              ...   \n",
       "66  FIRST BANK PLC INTERNATIONAL REMITTANCE DEPART...   01383830.2.htm   \n",
       "0                    Congratulation: You're a winner!   01383833.1.htm   \n",
       "1                                              Hello,   01383834.2.htm   \n",
       "2   Re: Exchange Of Account / Are You Aware ??? 30...   01383837.1.htm   \n",
       "3               CALL  ME.............................   01383838.3.htm   \n",
       "\n",
       "          Date  \n",
       "0   2019-12/01  \n",
       "1   2019-12/01  \n",
       "2   2019-12/01  \n",
       "3   2019-12/01  \n",
       "4   2019-12/01  \n",
       "..         ...  \n",
       "66  2020-01/30  \n",
       "0   2020-01/31  \n",
       "1   2020-01/31  \n",
       "2   2020-01/31  \n",
       "3   2020-01/31  \n",
       "\n",
       "[4723 rows x 3 columns]"
      ]
     },
     "execution_count": 54,
     "metadata": {},
     "output_type": "execute_result"
    }
   ],
   "source": [
    "pd.concat(all_dfs)"
   ]
  },
  {
   "cell_type": "code",
   "execution_count": null,
   "metadata": {},
   "outputs": [],
   "source": []
  }
 ],
 "metadata": {
  "kernelspec": {
   "display_name": "Python 3",
   "language": "python",
   "name": "python3"
  },
  "language_info": {
   "codemirror_mode": {
    "name": "ipython",
    "version": 3
   },
   "file_extension": ".py",
   "mimetype": "text/x-python",
   "name": "python",
   "nbconvert_exporter": "python",
   "pygments_lexer": "ipython3",
   "version": "3.8.3"
  }
 },
 "nbformat": 4,
 "nbformat_minor": 4
}
